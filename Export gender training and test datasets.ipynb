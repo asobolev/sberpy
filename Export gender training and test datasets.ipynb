{
 "cells": [
  {
   "cell_type": "code",
   "execution_count": 1,
   "id": "specified-orbit",
   "metadata": {},
   "outputs": [],
   "source": [
    "import os\n",
    "import pandas as pd\n",
    "import numpy as np"
   ]
  },
  {
   "cell_type": "code",
   "execution_count": 6,
   "id": "physical-collar",
   "metadata": {},
   "outputs": [],
   "source": [
    "# все транзакции\n",
    "transactions = pd.read_csv(\n",
    "    filepath_or_buffer = os.path.join('assets', 'data', 'transactions.csv'),  # поправить если путь отличается\n",
    "    sep = ',',\n",
    "    usecols=['customer_id', 'tr_datetime', 'mcc_code', 'tr_type', 'amount', 'term_id'],\n",
    "    parse_dates=['tr_datetime'],\n",
    "    nrows = 1000000  # может взять больше чтобы лучше натренировать сеть\n",
    ")\n",
    "\n",
    "# известный пол - для тренировки сети\n",
    "gender_train = pd.read_csv(\n",
    "    filepath_or_buffer = os.path.join('assets', 'data', 'gender_train.csv'),\n",
    "    sep = ',',\n",
    "    usecols=['customer_id','gender'],\n",
    "    index_col='customer_id'\n",
    ")\n",
    "\n",
    "# неизвестный пол - для прогноза\n",
    "gender_test = pd.read_csv(\n",
    "    filepath_or_buffer = os.path.join('assets', 'data', 'gender_test.csv'),\n",
    "    sep = ',',\n",
    "    usecols=['customer_id'],\n",
    "    index_col='customer_id'\n",
    ")"
   ]
  },
  {
   "cell_type": "code",
   "execution_count": 19,
   "id": "sharing-parking",
   "metadata": {},
   "outputs": [],
   "source": [
    "ds_train = pd.merge(transactions, gender_train, on='customer_id', how='inner')\n",
    "ds_test = pd.merge(transactions, gender_test, on='customer_id', how='inner')\n",
    "\n",
    "ds_train.to_csv('train.csv', index=False)\n",
    "ds_test.to_csv('test.csv', index=False)"
   ]
  },
  {
   "cell_type": "code",
   "execution_count": null,
   "id": "eligible-reference",
   "metadata": {},
   "outputs": [],
   "source": []
  }
 ],
 "metadata": {
  "kernelspec": {
   "display_name": "Python 3",
   "language": "python",
   "name": "python3"
  },
  "language_info": {
   "codemirror_mode": {
    "name": "ipython",
    "version": 3
   },
   "file_extension": ".py",
   "mimetype": "text/x-python",
   "name": "python",
   "nbconvert_exporter": "python",
   "pygments_lexer": "ipython3",
   "version": "3.8.5"
  }
 },
 "nbformat": 4,
 "nbformat_minor": 5
}
