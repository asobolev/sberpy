{
  "nbformat": 4,
  "nbformat_minor": 0,
  "metadata": {
    "colab": {
      "name": "SBER gender exercise v2.ipynb",
      "provenance": [],
      "collapsed_sections": [],
      "authorship_tag": "ABX9TyMDio+Rt6R4hrJXCAuZcARR",
      "include_colab_link": true
    },
    "kernelspec": {
      "name": "python3",
      "display_name": "Python 3"
    }
  },
  "cells": [
    {
      "cell_type": "markdown",
      "metadata": {
        "id": "view-in-github",
        "colab_type": "text"
      },
      "source": [
        "<a href=\"https://colab.research.google.com/github/asobolev/sberpy/blob/main/SBER_gender_exercise_v2.ipynb\" target=\"_parent\"><img src=\"https://colab.research.google.com/assets/colab-badge.svg\" alt=\"Open In Colab\"/></a>"
      ]
    },
    {
      "cell_type": "code",
      "metadata": {
        "id": "i1lvWMI_dHMY"
      },
      "source": [
        "# на основе\n",
        "# https://www.tensorflow.org/tutorials/load_data/csv\n",
        "# https://keras.io/examples/structured_data/structured_data_classification_from_scratch/\n",
        "\n",
        "import tensorflow as tf\n",
        "import pandas as pd\n",
        "import numpy as np\n",
        "import functools\n",
        "import requests\n",
        "\n",
        "from tensorflow import keras\n",
        "from tensorflow.keras import layers\n",
        "from tensorflow.keras.layers.experimental.preprocessing import Normalization"
      ],
      "execution_count": 205,
      "outputs": []
    },
    {
      "cell_type": "code",
      "metadata": {
        "id": "NuLFGkR3TdAl"
      },
      "source": [
        "# загружаем данные с гугл диска\n",
        "gender_train = pd.read_csv('https://storage.googleapis.com/asobolev-assets/gender_train.csv')\n",
        "gender_test = pd.read_csv('https://storage.googleapis.com/asobolev-assets/gender_test.csv')\n",
        "transactions = pd.read_csv('https://storage.googleapis.com/asobolev-assets/transactions.csv')"
      ],
      "execution_count": 179,
      "outputs": []
    },
    {
      "cell_type": "code",
      "metadata": {
        "colab": {
          "base_uri": "https://localhost:8080/"
        },
        "id": "gje-laBMaNAa",
        "outputId": "d0dc1bd7-7a62-46f1-b098-2a4fd0fe476c"
      },
      "source": [
        "print('Количество клиентов: %s' % pd.unique(transactions['customer_id']).size)\n",
        "print('Из них известен пол: %s' % gender_train.size)\n",
        "print('Неизвестен пол: %s' % gender_test.size)"
      ],
      "execution_count": 180,
      "outputs": [
        {
          "output_type": "stream",
          "text": [
            "Количество клиентов: 15000\n",
            "Из них известен пол: 16800\n",
            "Неизвестен пол: 3600\n"
          ],
          "name": "stdout"
        }
      ]
    },
    {
      "cell_type": "code",
      "metadata": {
        "colab": {
          "base_uri": "https://localhost:8080/",
          "height": 204
        },
        "id": "C9N-tMzZjCu1",
        "outputId": "a5836541-f673-43b2-9ecd-6ce02323f6d1"
      },
      "source": [
        "# преобразуем транзакции:\n",
        "# term_id не используем т.к. по идее пол не должен зависеть от терминала\n",
        "transactions.pop('term_id')\n",
        "\n",
        "# из время транзакции берем только час\n",
        "transactions['tr_hour'] = transactions['tr_datetime'].apply(lambda x: int(x.split(' ')[1].split(':')[0]))\n",
        "# и день (по модулю 7 - как бы день недели), остальное не информативно\n",
        "transactions['tr_day'] = transactions['tr_datetime'].apply(lambda x: int(x.split(' ')[0]) % 7)\n",
        "\n",
        "transactions.drop(columns=['tr_datetime'], inplace=True)\n",
        "transactions.head()"
      ],
      "execution_count": 181,
      "outputs": [
        {
          "output_type": "execute_result",
          "data": {
            "text/html": [
              "<div>\n",
              "<style scoped>\n",
              "    .dataframe tbody tr th:only-of-type {\n",
              "        vertical-align: middle;\n",
              "    }\n",
              "\n",
              "    .dataframe tbody tr th {\n",
              "        vertical-align: top;\n",
              "    }\n",
              "\n",
              "    .dataframe thead th {\n",
              "        text-align: right;\n",
              "    }\n",
              "</style>\n",
              "<table border=\"1\" class=\"dataframe\">\n",
              "  <thead>\n",
              "    <tr style=\"text-align: right;\">\n",
              "      <th></th>\n",
              "      <th>customer_id</th>\n",
              "      <th>mcc_code</th>\n",
              "      <th>tr_type</th>\n",
              "      <th>amount</th>\n",
              "      <th>tr_hour</th>\n",
              "      <th>tr_day</th>\n",
              "    </tr>\n",
              "  </thead>\n",
              "  <tbody>\n",
              "    <tr>\n",
              "      <th>0</th>\n",
              "      <td>39026145</td>\n",
              "      <td>4814</td>\n",
              "      <td>1030</td>\n",
              "      <td>-2245.92</td>\n",
              "      <td>10</td>\n",
              "      <td>0</td>\n",
              "    </tr>\n",
              "    <tr>\n",
              "      <th>1</th>\n",
              "      <td>39026145</td>\n",
              "      <td>6011</td>\n",
              "      <td>7010</td>\n",
              "      <td>56147.89</td>\n",
              "      <td>10</td>\n",
              "      <td>1</td>\n",
              "    </tr>\n",
              "    <tr>\n",
              "      <th>2</th>\n",
              "      <td>39026145</td>\n",
              "      <td>4829</td>\n",
              "      <td>2330</td>\n",
              "      <td>-56147.89</td>\n",
              "      <td>10</td>\n",
              "      <td>1</td>\n",
              "    </tr>\n",
              "    <tr>\n",
              "      <th>3</th>\n",
              "      <td>39026145</td>\n",
              "      <td>5499</td>\n",
              "      <td>1010</td>\n",
              "      <td>-1392.47</td>\n",
              "      <td>10</td>\n",
              "      <td>1</td>\n",
              "    </tr>\n",
              "    <tr>\n",
              "      <th>4</th>\n",
              "      <td>39026145</td>\n",
              "      <td>5499</td>\n",
              "      <td>1010</td>\n",
              "      <td>-920.83</td>\n",
              "      <td>15</td>\n",
              "      <td>2</td>\n",
              "    </tr>\n",
              "  </tbody>\n",
              "</table>\n",
              "</div>"
            ],
            "text/plain": [
              "   customer_id  mcc_code  tr_type    amount  tr_hour  tr_day\n",
              "0     39026145      4814     1030  -2245.92       10       0\n",
              "1     39026145      6011     7010  56147.89       10       1\n",
              "2     39026145      4829     2330 -56147.89       10       1\n",
              "3     39026145      5499     1010  -1392.47       10       1\n",
              "4     39026145      5499     1010   -920.83       15       2"
            ]
          },
          "metadata": {
            "tags": []
          },
          "execution_count": 181
        }
      ]
    },
    {
      "cell_type": "code",
      "metadata": {
        "id": "kC87KJ3UTmVP"
      },
      "source": [
        "# известный пол - для тренировки сети\n",
        "df_train = pd.merge(transactions, gender_train, on='customer_id', how='inner')\n",
        "\n",
        "# неизвестный пол - для прогноза\n",
        "df_test = pd.merge(transactions, gender_test, on='customer_id', how='inner')"
      ],
      "execution_count": 182,
      "outputs": []
    },
    {
      "cell_type": "code",
      "metadata": {
        "id": "K27-DgFxv0MW",
        "colab": {
          "base_uri": "https://localhost:8080/"
        },
        "outputId": "81b16df1-dbdf-4bf9-8d55-a9d318394ce8"
      },
      "source": [
        "# собираем векторы фич по статистике транзакций каждого клиента\n",
        "def build_feature_vectors(df):\n",
        "    features = []\n",
        "\n",
        "    df_i = df[(df['amount'] > 0)]  # поступления\n",
        "    df_e = df[(df['amount'] < 0)]  # расходы\n",
        "\n",
        "    # первым идет баланс (есть у каждого клиента, должен быть вначале)\n",
        "    balance = df.groupby('customer_id')['amount'].agg(['sum']).rename(columns={'sum': 'balance'})\n",
        "    features += [balance]\n",
        "\n",
        "    # max, median, std, sum расходов и поступлений (2x4)\n",
        "    for metric in ('max', 'median', 'std', 'sum'):\n",
        "      f1 = df_i.groupby('customer_id')['amount'].agg([metric])\\\n",
        "            .rename(columns={metric: 'inc_%s_total' % metric})\n",
        "      f2 = df_e.groupby('customer_id')['amount'].agg([metric])\\\n",
        "            .rename(columns={metric: 'exp_%s_total' % metric})\n",
        "      features += [f1, f2]\n",
        "\n",
        "    # sum и median поступлений по часам (24x2)\n",
        "    for hour in range(24):\n",
        "      f1 = df_i[df_i['tr_hour'] == hour].groupby('customer_id')['amount'].agg(['sum'])\\\n",
        "            .rename(columns={'sum': 'inc_sum_hour_%s' % hour})\n",
        "      f2 = df_i[df_i['tr_hour'] == hour].groupby('customer_id')['amount'].agg(['median'])\\\n",
        "            .rename(columns={'median': 'inc_med_hour_%s' % hour})\n",
        "      features += [f1, f2]\n",
        "\n",
        "    # медианы расходов по каждой MCC категории (1x184)\n",
        "    f1 = df_e.groupby(['customer_id', 'mcc_code'])['amount'].agg(['median'])\\\n",
        "          .unstack(-1)['median']\n",
        "    features.append(f1)\n",
        "\n",
        "    # процент от общих расходов по каждой MCC категории (1x184)\n",
        "    f1 = df_e.groupby(['customer_id', 'mcc_code'])['amount'].agg(['sum'])\\\n",
        "          .unstack(-1)['sum']  # суммы расходов по каждой категории\n",
        "    f2 = df_e.groupby(['customer_id'])['amount'].agg(['sum'])['sum']  # суммы расходов вообще\n",
        "    features.append(f1.divide(f2, axis=0))\n",
        "\n",
        "    # sum и median расходов по дням недели (7x2)\n",
        "    for day in range(7):\n",
        "      f1 = df_e[df_e['tr_day'] == day].groupby('customer_id')['amount'].agg(['median'])\\\n",
        "            .rename(columns={'median': 'exp_med_day_%s' % day})\n",
        "      f2 = df_e[df_e['tr_day'] == day].groupby('customer_id')['amount'].agg(['sum'])\\\n",
        "            .rename(columns={'sum': 'exp_sum_day_%s' % day})\n",
        "      features += [f1, f2]\n",
        "\n",
        "    # собираем все в одну таблицу\n",
        "    dataset = functools.reduce(lambda x, y: pd.merge(x, y, on='customer_id', how='left'), features)\n",
        "    dataset.fillna(0.0, inplace=True)\n",
        "\n",
        "    # количество векторов фич должно быть равно количеству клиентов\n",
        "    assert dataset.shape[0] == pd.unique(df['customer_id']).size\n",
        "\n",
        "    return dataset\n",
        "\n",
        "features_train = build_feature_vectors(df_train)\n",
        "features_test = build_feature_vectors(df_test)\n",
        "\n",
        "print('Размер вектора фич - %s' % features_train.shape[1])"
      ],
      "execution_count": 235,
      "outputs": [
        {
          "output_type": "stream",
          "text": [
            "Размер вектора фич - 439\n"
          ],
          "name": "stdout"
        }
      ]
    },
    {
      "cell_type": "code",
      "metadata": {
        "id": "8UvyzV3_zTkn"
      },
      "source": [
        "# add PCA?\n",
        "# https://towardsdatascience.com/pca-using-python-scikit-learn-e653f8989e60\n",
        "# https://www.datacamp.com/community/tutorials/principal-component-analysis-in-python"
      ],
      "execution_count": 236,
      "outputs": []
    },
    {
      "cell_type": "code",
      "metadata": {
        "colab": {
          "base_uri": "https://localhost:8080/"
        },
        "id": "b0SV0LLRqCr6",
        "outputId": "94f41def-7fdf-4483-ae23-958487ffa647"
      },
      "source": [
        "# добавим к тренировочным фичам лейблы\n",
        "df = pd.merge(features_train, gender_train, on='customer_id', how='inner')\n",
        "df.drop(columns=['customer_id'], inplace=True)\n",
        "\n",
        "# разделяем транзакции на тренировочные и проверочные\n",
        "df_ev = df.sample(frac=0.1)\n",
        "df_tr = df.drop(df_ev.index)\n",
        "\n",
        "labels_tr = df_tr.pop('gender')\n",
        "labels_ev = df_ev.pop('gender')\n",
        "\n",
        "print(\"Выборка из %d строк для тренировки и %d для проверки\" % (len(df_tr), len(df_ev)))"
      ],
      "execution_count": 237,
      "outputs": [
        {
          "output_type": "stream",
          "text": [
            "Выборка из 7560 строк для тренировки и 840 для проверки\n"
          ],
          "name": "stdout"
        }
      ]
    },
    {
      "cell_type": "code",
      "metadata": {
        "colab": {
          "base_uri": "https://localhost:8080/",
          "height": 110
        },
        "id": "0F38CZEkLIi0",
        "outputId": "51f03de0-f788-49e2-9c44-9bf45e3a861e"
      },
      "source": [
        "# слой сети для нормализации векторных фич\n",
        "normalize = Normalization()\n",
        "normalize.adapt(df_tr.to_numpy())\n",
        "\n",
        "# модель сети\n",
        "model = tf.keras.Sequential([\n",
        "  normalize,\n",
        "  layers.Dense(512, activation='sigmoid', input_dim=df_tr.shape[1]),\n",
        "  layers.Dense(1024, activation='sigmoid'),\n",
        "  layers.Dense(64, activation='sigmoid'),\n",
        "  layers.Dense(1, activation='sigmoid')\n",
        "])\n",
        "\n",
        "#model.compile(loss = tf.losses.MeanSquaredError(), optimizer = tf.optimizers.Adam(), metrics=[\"accuracy\"])\n",
        "model.compile(optimizer='adam', loss='binary_crossentropy', metrics=[tf.keras.metrics.AUC()])\n",
        "#model.compile(optimizer='adam', loss='binary_crossentropy', metrics=[\"accuracy\"])\n",
        "keras.utils.plot_model(model, show_shapes=True, rankdir=\"LR\")"
      ],
      "execution_count": 238,
      "outputs": [
        {
          "output_type": "execute_result",
          "data": {
            "image/png": "[encoded data removed]",
            "text/plain": [
              "<IPython.core.display.Image object>"
            ]
          },
          "metadata": {
            "tags": []
          },
          "execution_count": 238
        }
      ]
    },
    {
      "cell_type": "code",
      "metadata": {
        "colab": {
          "base_uri": "https://localhost:8080/"
        },
        "id": "bbDsTBhuLxpZ",
        "outputId": "e5e24f19-4735-4f77-d7c1-588f4c4bcc8a"
      },
      "source": [
        "model.fit(df_tr, labels_tr, epochs=15)"
      ],
      "execution_count": 239,
      "outputs": [
        {
          "output_type": "stream",
          "text": [
            "Epoch 1/15\n",
            "237/237 [==============================] - 4s 14ms/step - loss: 0.6492 - auc_13: 0.6451\n",
            "Epoch 2/15\n",
            "237/237 [==============================] - 3s 14ms/step - loss: 0.5004 - auc_13: 0.8314\n",
            "Epoch 3/15\n",
            "237/237 [==============================] - 3s 13ms/step - loss: 0.4826 - auc_13: 0.8438\n",
            "Epoch 4/15\n",
            "237/237 [==============================] - 3s 13ms/step - loss: 0.4783 - auc_13: 0.8490\n",
            "Epoch 5/15\n",
            "237/237 [==============================] - 3s 13ms/step - loss: 0.4739 - auc_13: 0.8509\n",
            "Epoch 6/15\n",
            "237/237 [==============================] - 3s 13ms/step - loss: 0.4607 - auc_13: 0.8603\n",
            "Epoch 7/15\n",
            "237/237 [==============================] - 3s 13ms/step - loss: 0.4515 - auc_13: 0.8651\n",
            "Epoch 8/15\n",
            "237/237 [==============================] - 3s 13ms/step - loss: 0.4352 - auc_13: 0.8730\n",
            "Epoch 9/15\n",
            "237/237 [==============================] - 3s 13ms/step - loss: 0.4371 - auc_13: 0.8725\n",
            "Epoch 10/15\n",
            "237/237 [==============================] - 3s 13ms/step - loss: 0.4080 - auc_13: 0.8893\n",
            "Epoch 11/15\n",
            "237/237 [==============================] - 3s 13ms/step - loss: 0.4253 - auc_13: 0.8754\n",
            "Epoch 12/15\n",
            "237/237 [==============================] - 3s 14ms/step - loss: 0.4084 - auc_13: 0.8876\n",
            "Epoch 13/15\n",
            "237/237 [==============================] - 3s 14ms/step - loss: 0.3966 - auc_13: 0.8936\n",
            "Epoch 14/15\n",
            "237/237 [==============================] - 3s 13ms/step - loss: 0.3920 - auc_13: 0.8965\n",
            "Epoch 15/15\n",
            "237/237 [==============================] - 3s 13ms/step - loss: 0.3788 - auc_13: 0.9033\n"
          ],
          "name": "stdout"
        },
        {
          "output_type": "execute_result",
          "data": {
            "text/plain": [
              "<tensorflow.python.keras.callbacks.History at 0x7f10170b5850>"
            ]
          },
          "metadata": {
            "tags": []
          },
          "execution_count": 239
        }
      ]
    },
    {
      "cell_type": "code",
      "metadata": {
        "colab": {
          "base_uri": "https://localhost:8080/"
        },
        "id": "60TDXhJyO6_n",
        "outputId": "62d6d086-332e-4657-bcd1-70db13eb83bf"
      },
      "source": [
        "# тест насколько хорошо получилась сеть\n",
        "model.evaluate(df_ev, labels_ev)"
      ],
      "execution_count": 240,
      "outputs": [
        {
          "output_type": "stream",
          "text": [
            "27/27 [==============================] - 0s 4ms/step - loss: 0.5842 - auc_13: 0.8146\n"
          ],
          "name": "stdout"
        },
        {
          "output_type": "execute_result",
          "data": {
            "text/plain": [
              "[0.5841642618179321, 0.8146273493766785]"
            ]
          },
          "metadata": {
            "tags": []
          },
          "execution_count": 240
        }
      ]
    },
    {
      "cell_type": "code",
      "metadata": {
        "id": "4Gc99iSedzWR"
      },
      "source": [
        "# делаем прогноз\n",
        "predictions = model.predict(features_test)"
      ],
      "execution_count": 241,
      "outputs": []
    },
    {
      "cell_type": "code",
      "metadata": {
        "colab": {
          "base_uri": "https://localhost:8080/",
          "height": 265
        },
        "id": "clkvCAxKvNtX",
        "outputId": "bc825aeb-fbaf-483b-dd22-8d867c6a82a7"
      },
      "source": [
        "# смотрим на качество распределения вероятностных оценок \n",
        "# (расстраиваемся что много \"трансгендеров\" посередине)\n",
        "import matplotlib.pyplot as plt \n",
        "plt.hist(predictions, 30)\n",
        "plt.xlim(0, 1)\n",
        "plt.grid()"
      ],
      "execution_count": 242,
      "outputs": [
        {
          "output_type": "display_data",
          "data": {
            "image/png": "[encoded data removed]",
            "text/plain": [
              "<Figure size 432x288 with 1 Axes>"
            ]
          },
          "metadata": {
            "tags": [],
            "needs_background": "light"
          }
        }
      ]
    },
    {
      "cell_type": "code",
      "metadata": {
        "colab": {
          "base_uri": "https://localhost:8080/",
          "height": 204
        },
        "id": "dkYYe7zZvOHa",
        "outputId": "e87ce9f0-b582-4bef-b694-d2a8cdeb1cc3"
      },
      "source": [
        "submission = gender_test.copy()\n",
        "submission['probability'] = predictions\n",
        "submission.head()"
      ],
      "execution_count": 243,
      "outputs": [
        {
          "output_type": "execute_result",
          "data": {
            "text/html": [
              "<div>\n",
              "<style scoped>\n",
              "    .dataframe tbody tr th:only-of-type {\n",
              "        vertical-align: middle;\n",
              "    }\n",
              "\n",
              "    .dataframe tbody tr th {\n",
              "        vertical-align: top;\n",
              "    }\n",
              "\n",
              "    .dataframe thead th {\n",
              "        text-align: right;\n",
              "    }\n",
              "</style>\n",
              "<table border=\"1\" class=\"dataframe\">\n",
              "  <thead>\n",
              "    <tr style=\"text-align: right;\">\n",
              "      <th></th>\n",
              "      <th>customer_id</th>\n",
              "      <th>probability</th>\n",
              "    </tr>\n",
              "  </thead>\n",
              "  <tbody>\n",
              "    <tr>\n",
              "      <th>0</th>\n",
              "      <td>75562265</td>\n",
              "      <td>0.229397</td>\n",
              "    </tr>\n",
              "    <tr>\n",
              "      <th>1</th>\n",
              "      <td>84816985</td>\n",
              "      <td>0.326785</td>\n",
              "    </tr>\n",
              "    <tr>\n",
              "      <th>2</th>\n",
              "      <td>54129921</td>\n",
              "      <td>0.097786</td>\n",
              "    </tr>\n",
              "    <tr>\n",
              "      <th>3</th>\n",
              "      <td>23160845</td>\n",
              "      <td>0.002356</td>\n",
              "    </tr>\n",
              "    <tr>\n",
              "      <th>4</th>\n",
              "      <td>45646491</td>\n",
              "      <td>0.979749</td>\n",
              "    </tr>\n",
              "  </tbody>\n",
              "</table>\n",
              "</div>"
            ],
            "text/plain": [
              "   customer_id  probability\n",
              "0     75562265     0.229397\n",
              "1     84816985     0.326785\n",
              "2     54129921     0.097786\n",
              "3     23160845     0.002356\n",
              "4     45646491     0.979749"
            ]
          },
          "metadata": {
            "tags": []
          },
          "execution_count": 243
        }
      ]
    },
    {
      "cell_type": "code",
      "metadata": {
        "id": "YapJ1vDkyF7J"
      },
      "source": [
        ""
      ],
      "execution_count": null,
      "outputs": []
    }
  ]
}